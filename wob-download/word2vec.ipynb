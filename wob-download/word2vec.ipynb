{
 "cells": [
  {
   "cell_type": "code",
   "execution_count": null,
   "id": "144676da",
   "metadata": {},
   "outputs": [],
   "source": [
    "!pip install gensim\n",
    "#pip install nltk\n"
   ]
  },
  {
   "cell_type": "code",
   "execution_count": null,
   "id": "ec859452",
   "metadata": {},
   "outputs": [],
   "source": [
    "\n",
    "#Importing libraries\n",
    "from nltk.tokenize import sent_tokenize, word_tokenize\n",
    "import gensim\n",
    "from gensim.models import Word2Vec"
   ]
  },
  {
   "cell_type": "code",
   "execution_count": null,
   "id": "e1f6d69f",
   "metadata": {},
   "outputs": [],
   "source": [
    "# RESTART here\n",
    "import pandas as pd\n",
    "df = pd.read_pickle(\"wob_data.pkl\")\n",
    "corpus_clean = df[['file_ids','clean_text']]\n"
   ]
  },
  {
   "cell_type": "code",
   "execution_count": null,
   "id": "e24485d7",
   "metadata": {},
   "outputs": [],
   "source": [
    "# read sentences from pickled object\n",
    "import pickle\n",
    "\n",
    "pickleFile = open('corpus_sentences.pkl', 'rb')\n",
    "sentences = pickle.load(pickleFile)\n",
    "pickleFile.close()"
   ]
  },
  {
   "cell_type": "code",
   "execution_count": null,
   "id": "d368febd",
   "metadata": {},
   "outputs": [],
   "source": [
    "import string\n",
    "import nltk\n",
    "import tqdm\n",
    "\n",
    "data = []\n",
    "for sent in tqdm(sentences):\n",
    "    new_sent = []\n",
    "    for word in sent:\n",
    "        new_word = word.lower()\n",
    "        if new_word[0] not in string.punctuation:\n",
    "            if len(new_word)>2:\n",
    "                new_sent.append(new_word)\n",
    "    if len(new_sent) > 5:\n",
    "        data.append(new_sent)"
   ]
  },
  {
   "cell_type": "code",
   "execution_count": null,
   "id": "0a0538bc",
   "metadata": {},
   "outputs": [],
   "source": [
    "data[60]"
   ]
  },
  {
   "cell_type": "code",
   "execution_count": null,
   "id": "be419581",
   "metadata": {},
   "outputs": [],
   "source": [
    "# Creating Word2Vec\n",
    "model = Word2Vec(\n",
    "    sentences = data,\n",
    "    window = 10,\n",
    "    workers = 8\n",
    ")"
   ]
  },
  {
   "cell_type": "code",
   "execution_count": null,
   "id": "3875e1d0",
   "metadata": {},
   "outputs": [],
   "source": [
    "from gensim.models import KeyedVectors\n",
    "\n",
    "#model.save(\"wob_word2vec.model\")\n",
    "#model.save_word2vec_format(\"wob_word2vec.model\")\n",
    "\n",
    "KeyedVectors.save_word2vec_format(model.wv,fname=\"wob_word2vec.model\")\n"
   ]
  },
  {
   "cell_type": "code",
   "execution_count": null,
   "id": "b208e4cc",
   "metadata": {},
   "outputs": [],
   "source": [
    "vector = model.wv['nctv']  # get numpy vector of a word\n",
    "\n",
    "sims = model.wv.most_similar('rivm', topn=10)  # get other similar words"
   ]
  },
  {
   "cell_type": "code",
   "execution_count": null,
   "id": "c8b5906e",
   "metadata": {},
   "outputs": [],
   "source": [
    "model.wv"
   ]
  }
 ],
 "metadata": {
  "kernelspec": {
   "display_name": "Python 3 (ipykernel)",
   "language": "python",
   "name": "python3"
  },
  "language_info": {
   "codemirror_mode": {
    "name": "ipython",
    "version": 3
   },
   "file_extension": ".py",
   "mimetype": "text/x-python",
   "name": "python",
   "nbconvert_exporter": "python",
   "pygments_lexer": "ipython3",
   "version": "3.7.4"
  }
 },
 "nbformat": 4,
 "nbformat_minor": 5
}
