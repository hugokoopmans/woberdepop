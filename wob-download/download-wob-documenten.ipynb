{
 "cells": [
  {
   "cell_type": "code",
   "execution_count": null,
   "id": "d9e9168a",
   "metadata": {},
   "outputs": [],
   "source": [
    "import os\n",
    "import json\n",
    "import requests\n",
    "from bs4 import BeautifulSoup\n"
   ]
  },
  {
   "cell_type": "code",
   "execution_count": null,
   "id": "3cf80896",
   "metadata": {},
   "outputs": [],
   "source": [
    "from tqdm import tqdm"
   ]
  },
  {
   "cell_type": "code",
   "execution_count": null,
   "id": "571425d2",
   "metadata": {},
   "outputs": [],
   "source": [
    "# set up a session\n",
    "s = requests.session()"
   ]
  },
  {
   "cell_type": "code",
   "execution_count": null,
   "id": "ee462458",
   "metadata": {},
   "outputs": [],
   "source": [
    "def getData(url):\n",
    "    response = requests.get(url)\n",
    "    if(response.status_code==200):\n",
    "        data = response.content\n",
    "        jsonData = json.loads(data)\n",
    "    else:\n",
    "        print(\"Error occured\", response.status_code())\n",
    "    return jsonData"
   ]
  },
  {
   "cell_type": "code",
   "execution_count": null,
   "id": "c0bc857b",
   "metadata": {},
   "outputs": [],
   "source": [
    "#url1 = \"https://do-ams3-17.hw.webhare.net/services/wobcovid19-prod-1/search/?first=1&count=2&orderby=publicationdate\"\n",
    "#url2 = \"https://lin-euc-09.hw.webhare.net/services/wobcovid19-prod-2/search/\"\n",
    "url1 = \"https://do-ams3-17.hw.webhare.net/services/wobcovid19-prod-1/search/?first=1&count=202&orderby=publicationdate\"\n",
    "data = getData(url1)"
   ]
  },
  {
   "cell_type": "code",
   "execution_count": null,
   "id": "bd97fdab",
   "metadata": {},
   "outputs": [],
   "source": [
    "# Serializing json  \n",
    "#json_object = json.dumps(data, indent = 4) \n",
    "#print(json_object)"
   ]
  },
  {
   "cell_type": "code",
   "execution_count": null,
   "id": "49d1038d",
   "metadata": {},
   "outputs": [],
   "source": [
    "import pandas as pd\n",
    "# extract the list\n",
    "df = pd.DataFrame() \n",
    "for i in tqdm(data[\"results\"]):\n",
    "    id = i[\"publication\"][\"id\"][-32:].lower()\n",
    "    pub_date = i[\"publication\"][\"publicationdate\"][:10]\n",
    "    title = i[\"publication\"][\"title\"]\n",
    "    df = df.append({'id':id, 'publication_date':pub_date, 'title':title}, ignore_index=True)\n",
    "    "
   ]
  },
  {
   "cell_type": "code",
   "execution_count": null,
   "id": "b2abbaaf",
   "metadata": {},
   "outputs": [],
   "source": [
    "df.head()"
   ]
  },
  {
   "cell_type": "code",
   "execution_count": null,
   "id": "8387bb3e",
   "metadata": {},
   "outputs": [],
   "source": [
    "df.shape"
   ]
  },
  {
   "cell_type": "code",
   "execution_count": null,
   "id": "6666a25e",
   "metadata": {},
   "outputs": [],
   "source": [
    "base_url = 'https://wobcovid19.rijksoverheid.nl/publicaties/'"
   ]
  },
  {
   "cell_type": "code",
   "execution_count": null,
   "id": "c7e9ecfe",
   "metadata": {},
   "outputs": [],
   "source": [
    "urls = base_url + df.id + '/'\n",
    "urls"
   ]
  },
  {
   "cell_type": "code",
   "execution_count": null,
   "id": "03df5bcc",
   "metadata": {},
   "outputs": [],
   "source": [
    "def handle_filename_too_long(name):\n",
    "    # os max char for filename on linux\n",
    "    if name.startswith('besluit-op-wob-verzoek-'):\n",
    "        name = name[23:len(name)]\n",
    "    return name\n"
   ]
  },
  {
   "cell_type": "code",
   "execution_count": null,
   "id": "825e59e5",
   "metadata": {},
   "outputs": [],
   "source": [
    "import random, string\n",
    "\n",
    "def randomword(length):\n",
    "   letters = string.ascii_lowercase\n",
    "   return ''.join(random.choice(letters) for i in range(length))"
   ]
  },
  {
   "cell_type": "code",
   "execution_count": null,
   "id": "ea4ec5e4",
   "metadata": {},
   "outputs": [],
   "source": [
    "name= 'besluit-op-wob-verzoek-dd-22-juli-2021-inzake-kosten-en-batenanalyse-tabel-in-de-hypothetische-situatie-waarbij-deze-coronapandemie-ongecontroleerd-door-het-land-zou-razen-nav-documentaire-over-het-verloren-aantal-kwalitatieve-levensjaren-zogenoemde-qalys.pdf'\n",
    "len(name)\n",
    "\n",
    "if name.startswith('besluit-op-wob-verzoek-'):\n",
    "    name[23:len(name)]\n",
    "\n",
    "name[23:len(name)]"
   ]
  },
  {
   "cell_type": "code",
   "execution_count": null,
   "id": "10b4bdc2",
   "metadata": {},
   "outputs": [],
   "source": [
    "for u in tqdm(urls):\n",
    "    # pagina met wob docs\n",
    "    r = requests.get(url = u).text\n",
    "    # parse html\n",
    "    soup = BeautifulSoup(r, 'html.parser')\n",
    "    # looking for hrefs 'publication__download'\n",
    "    hrefs = [a.get('href') for a in soup.find_all('a', attrs={\"class\":\"publication__download\"})]\n",
    "    \n",
    "    for h in hrefs:\n",
    "        # pdfs in pagina\n",
    "        r = requests.get(u + h, stream=True)\n",
    "        \n",
    "        # besluit.pdf komt meerdere keren voor we willen niet overschrtrijven\n",
    "        if (h == 'besluit.pdf'):\n",
    "            h = \"besluit-\" + randomword(5) + \".pdf\"\n",
    "        \n",
    "        # handle long filename\n",
    "        if len(h) > 255 :\n",
    "            h = handle_filename_too_long(h)\n",
    "            \n",
    "        path = './data/'+ h\n",
    "        chunk_size = 2000\n",
    "\n",
    "        try :\n",
    "            with open(path, 'wb') as fd:\n",
    "                for chunk in r.iter_content(chunk_size):\n",
    "                    fd.write(chunk)\n",
    "        except OSError as exc:\n",
    "            if exc.errno == 36:\n",
    "                print('filename to long : ' + h)\n",
    "            else:\n",
    "                raise  # re-raise previously caught exception\n"
   ]
  },
  {
   "cell_type": "code",
   "execution_count": null,
   "id": "f49cba3a",
   "metadata": {},
   "outputs": [],
   "source": []
  }
 ],
 "metadata": {
  "kernelspec": {
   "display_name": "Python 3 (ipykernel)",
   "language": "python",
   "name": "python3"
  },
  "language_info": {
   "codemirror_mode": {
    "name": "ipython",
    "version": 3
   },
   "file_extension": ".py",
   "mimetype": "text/x-python",
   "name": "python",
   "nbconvert_exporter": "python",
   "pygments_lexer": "ipython3",
   "version": "3.7.4"
  }
 },
 "nbformat": 4,
 "nbformat_minor": 5
}
