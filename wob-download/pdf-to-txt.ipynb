{
 "cells": [
  {
   "cell_type": "markdown",
   "id": "4ee03460",
   "metadata": {},
   "source": [
    "## pdf 2 txt\n",
    "\n",
    "Lees alle pdf uit de `data` folder, pas OCR toe waar nodig en drop alles als txt in de `txt` folder"
   ]
  },
  {
   "cell_type": "code",
   "execution_count": null,
   "id": "534e99cf",
   "metadata": {},
   "outputs": [],
   "source": [
    "#!pip install textract"
   ]
  },
  {
   "cell_type": "code",
   "execution_count": null,
   "id": "009b9230",
   "metadata": {},
   "outputs": [],
   "source": [
    "from tqdm import tqdm"
   ]
  },
  {
   "cell_type": "code",
   "execution_count": null,
   "id": "7b22c5a3",
   "metadata": {},
   "outputs": [],
   "source": [
    "import os\n",
    "# loop over all files in dir and extract text\n",
    "path='./data/'\n",
    "list_of_files = []\n",
    "for (dirpath, dirnames, filenames) in os.walk(path):\n",
    "    for filename in filenames:\n",
    "        if filename.endswith('.pdf'): \n",
    "            list_of_files.append(os.sep.join([dirpath, filename]))"
   ]
  },
  {
   "cell_type": "code",
   "execution_count": null,
   "id": "80b11a78",
   "metadata": {},
   "outputs": [],
   "source": [
    "list_of_files"
   ]
  },
  {
   "cell_type": "code",
   "execution_count": null,
   "id": "18dac96d",
   "metadata": {},
   "outputs": [],
   "source": [
    "source_path = list_of_files[0]\n",
    "full_name = source_path.split('/')[-1:][0]\n",
    "file_name = full_name.split('.')[0]\n",
    "file_name"
   ]
  },
  {
   "cell_type": "code",
   "execution_count": null,
   "id": "f57a8406",
   "metadata": {},
   "outputs": [],
   "source": [
    "import textract\n",
    "\n",
    "# for all pdf files do save as txt file\n",
    "\n",
    "for f in tqdm(list_of_files) :\n",
    "\n",
    "    source_path = f\n",
    "\n",
    "    # convert pdf to txt\n",
    "    text = textract.process(source_path)\n",
    "\n",
    "    # build new path\n",
    "    target_dir = './txt/'\n",
    "\n",
    "    full_name = source_path.split('/')[-1:][0]\n",
    "    file_name = full_name.split('.')[0] + '.txt'\n",
    "\n",
    "    target_path = os.path.join(target_dir, file_name)\n",
    "\n",
    "    file = open(target_path, 'wb')\n",
    "    file.write(text)\n",
    "    file.close()\n"
   ]
  }
 ],
 "metadata": {
  "kernelspec": {
   "display_name": "Python 3 (ipykernel)",
   "language": "python",
   "name": "python3"
  },
  "language_info": {
   "codemirror_mode": {
    "name": "ipython",
    "version": 3
   },
   "file_extension": ".py",
   "mimetype": "text/x-python",
   "name": "python",
   "nbconvert_exporter": "python",
   "pygments_lexer": "ipython3",
   "version": "3.7.4"
  }
 },
 "nbformat": 4,
 "nbformat_minor": 5
}
