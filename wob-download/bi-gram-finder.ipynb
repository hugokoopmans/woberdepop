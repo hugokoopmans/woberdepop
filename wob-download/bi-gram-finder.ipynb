{
 "cells": [
  {
   "cell_type": "markdown",
   "id": "08d3a2fc",
   "metadata": {},
   "source": [
    "## Bi-gram finder\n",
    "\n",
    "Hier zoeken we naar de meest informatieve woord combinaties in de verschillende documenten. Van de top k bi-grams maken we wederom een gexf file die we nader kunnen onderzoeken met gephi.org"
   ]
  },
  {
   "cell_type": "code",
   "execution_count": null,
   "id": "6c3325e5",
   "metadata": {},
   "outputs": [],
   "source": [
    "import nltk\n",
    "from nltk.collocations import *\n",
    "bigram_measures = nltk.collocations.BigramAssocMeasures()\n",
    "trigram_measures = nltk.collocations.TrigramAssocMeasures()\n",
    "\n",
    "# Ngrams with a'creature' as a member\n",
    "creature_filter = lambda *w: 'creature' not in w\n",
    "\n",
    "## Bigrams\n",
    "finder = BigramCollocationFinder.from_words(\n",
    "   nltk.corpus.genesis.words('english-web.txt'))\n",
    "# only bigrams that appear 3+ times\n",
    "finder.apply_freq_filter(2)\n",
    "# only bigrams that contain 'creature'\n",
    "finder.apply_ngram_filter(creature_filter)\n",
    "# return the 10 n-grams with the highest PMI\n",
    "print(finder.nbest(bigram_measures.likelihood_ratio, 10))"
   ]
  },
  {
   "cell_type": "code",
   "execution_count": null,
   "id": "9eebb913",
   "metadata": {},
   "outputs": [],
   "source": [
    "# RESTART here\n",
    "import pandas as pd\n",
    "df = pd.read_pickle(\"wob_data.pkl\")\n",
    "corpus_clean = df[['file_ids','clean_text']]\n"
   ]
  },
  {
   "cell_type": "code",
   "execution_count": null,
   "id": "83d3143a",
   "metadata": {},
   "outputs": [],
   "source": [
    "corpus_clean[\"file_ids\"]"
   ]
  },
  {
   "cell_type": "code",
   "execution_count": null,
   "id": "e803cd8f",
   "metadata": {},
   "outputs": [],
   "source": [
    "## Bigrams\n",
    "\n",
    "bigram_corpus = []\n",
    "\n",
    "for i in range(len(corpus_clean)):\n",
    "    finder = BigramCollocationFinder.from_words(corpus_clean[\"clean_text\"][i].split())\n",
    "    # only bigrams that appear 3+ times\n",
    "    finder.apply_freq_filter(1)\n",
    "\n",
    "    bigrams_in_file = {\"file_name\":[],\"bigrams\":[]}\n",
    "\n",
    "    # return the n-grams with the highest PMI\n",
    "    bigrams_in_file[\"file_name\"].append(corpus_clean[\"file_ids\"][i])\n",
    "    bigrams_in_file[\"bigrams\"].append(finder.nbest(bigram_measures.likelihood_ratio, 30))\n",
    "    \n",
    "    bigram_corpus.append(bigrams_in_file)\n",
    "    "
   ]
  },
  {
   "cell_type": "code",
   "execution_count": null,
   "id": "cab2145c",
   "metadata": {},
   "outputs": [],
   "source": [
    "# add filename types to the graph\n",
    "f=re.split('_|-',bigram_corpus[0]['file_name'][0])[0]\n",
    "if len(f)<4:\n",
    "    f=''\n",
    "f"
   ]
  },
  {
   "cell_type": "code",
   "execution_count": null,
   "id": "048e9ab7",
   "metadata": {},
   "outputs": [],
   "source": [
    "# load networkX\n",
    "import networkx as nx\n",
    "import datetime\n",
    "import re\n",
    "\n",
    "# create an empty graph\n",
    "Gnew=nx.Graph()\n",
    "\n",
    "# Loop over all tweets \n",
    "for f in bigram_corpus:\n",
    "        # file type\n",
    "        f1=''\n",
    "        #re.split(', |_|-|!', data)\n",
    "        f2 = re.split('_|-|\\.',f['file_name'][0])[0]\n",
    "        if len(f2) > 4:\n",
    "            f1 = f2\n",
    "            print(f2)\n",
    "    \n",
    "        # Add node\n",
    "        Gnew.add_node(str(f['file_name'][0]),label=f['file_name'][0], type='file'+'-'+f1)\n",
    "        \n",
    "        # Loop over all bigrams\n",
    "        try:\n",
    "            bigrams = f['bigrams'][0]\n",
    "            for bg in bigrams:\n",
    "                Gnew.add_node(bg[0], label=bg[0],  type=\"woord\")\n",
    "                Gnew.add_node(bg[1], label=bg[1],  type=\"woord\")\n",
    "                Gnew.add_edge(bg[0],bg[1],label=\"bigram\")\n",
    "                Gnew.add_edge(bg[0],f['file_name'][0],label=\"found-in\")\n",
    "                Gnew.add_edge(bg[1],f['file_name'][0],label=\"found-in\")\n",
    "        except:\n",
    "            pass\n",
    "        "
   ]
  },
  {
   "cell_type": "code",
   "execution_count": null,
   "id": "08ceac78",
   "metadata": {},
   "outputs": [],
   "source": [
    "# save graph\n",
    "nx.write_gexf(Gnew,'woberdepop.gexf')"
   ]
  }
 ],
 "metadata": {
  "kernelspec": {
   "display_name": "Python 3 (ipykernel)",
   "language": "python",
   "name": "python3"
  },
  "language_info": {
   "codemirror_mode": {
    "name": "ipython",
    "version": 3
   },
   "file_extension": ".py",
   "mimetype": "text/x-python",
   "name": "python",
   "nbconvert_exporter": "python",
   "pygments_lexer": "ipython3",
   "version": "3.7.4"
  }
 },
 "nbformat": 4,
 "nbformat_minor": 5
}
