{
 "cells": [
  {
   "cell_type": "markdown",
   "metadata": {},
   "source": [
    "## Goal of this exercise\n",
    "\n",
    "We like to search twitter for a list of search items such as hashtags or keywords. These tweets we want to download and generate a graph from it that we can analyse with Gephi(or in R).\n",
    "\n",
    "### Twitter Search API\n",
    "\n",
    "We need to setup the twitter API first. For this excercuse we will use the twitter-app credentials of DIKW Academy. So please use with care! "
   ]
  },
  {
   "cell_type": "code",
   "execution_count": null,
   "metadata": {},
   "outputs": [],
   "source": [
    "# if not installed please do run the line below once\n",
    "#!pip install TwitterSearch"
   ]
  },
  {
   "cell_type": "code",
   "execution_count": null,
   "metadata": {},
   "outputs": [],
   "source": [
    "# test if we have this library installed\n",
    "from TwitterSearch import *\n",
    "import json\n",
    "import pprint\n",
    "\n",
    "# we need access to de development api of twitter\n",
    "# see https://developer.twitter.com/en/docs/twitter-api\n",
    "# put your credentials in a seperate file to load (and do not commit this file :-)\n",
    "\n",
    "#        consumer_key \n",
    "#        consumer_secret\n",
    "#        access_token\n",
    "#        access_token_secret\n",
    "\n",
    "import twittercredentials as tc"
   ]
  },
  {
   "cell_type": "markdown",
   "metadata": {},
   "source": [
    "## Search twitter\n",
    "\n",
    "We search twitter by setting the keywords we are interested in.\n",
    "\n",
    "For example let's search for '#oversterfte', 'wappies', 'mRNA'"
   ]
  },
  {
   "cell_type": "code",
   "execution_count": null,
   "metadata": {
    "scrolled": false
   },
   "outputs": [],
   "source": [
    "# we now are going to search the twitter API\n",
    "try:\n",
    "    tso = TwitterSearchOrder() # create a TwitterSearchOrder object\n",
    "    tso.set_keywords(['#oversterfte']) # let's define all words we would like to have a look for\n",
    "    tso.set_language('nl') # we want to see Dutch tweets only\n",
    "    tso.set_include_entities(True) # and don't give us all those entity information\n",
    "\n",
    "    # it's about time to create a TwitterSearch object with our secret tokens\n",
    "    ts = TwitterSearch(\n",
    "        tc.consumer_key,\n",
    "        tc.consumer_secret,\n",
    "        tc.access_token,\n",
    "        tc.access_token_secret\n",
    "     )\n",
    "\n",
    "    \n",
    "except TwitterSearchException as e: # take care of all those ugly errors if there are some\n",
    "    print(e)"
   ]
  },
  {
   "cell_type": "markdown",
   "metadata": {},
   "source": [
    "## Error 429\n",
    "\n",
    "If we use the API to much we get he following message:\n",
    "\n",
    "Error 429: ('Too Many Requests: Request cannot be served ', \"due to the application's rate limit having \", 'been exhausted for the resource')"
   ]
  },
  {
   "cell_type": "code",
   "execution_count": null,
   "metadata": {},
   "outputs": [],
   "source": [
    "# Get all tweetdata and store them in an JSON array\n",
    "# this can take some time depending on the amount of tweets your search has hit\n",
    "tweets = []\n",
    "for tweet in ts.search_tweets_iterable(tso):\n",
    "    #print( tweet)\n",
    "    tweets.append(tweet)\n",
    "\n",
    "# so how many tweets did we get?\n",
    "len(tweets)"
   ]
  },
  {
   "cell_type": "code",
   "execution_count": null,
   "metadata": {},
   "outputs": [],
   "source": [
    "# Well, this is wat a tweet looks like when all items are loaded\n",
    "pprint.pprint(tweets[0])"
   ]
  },
  {
   "cell_type": "code",
   "execution_count": null,
   "metadata": {},
   "outputs": [],
   "source": [
    "# if we want to store our results in a flat list\n",
    "tweets_list = []\n",
    "\n",
    "# this is where the fun actually starts :)\n",
    "for tweet in tweets:\n",
    "    #print( '@%s | %s | %s | %s | %s | %s | %s' % ( tweet['user']['screen_name'], tweet['user']['created_at'], tweet['user']['followers_count'], tweet['user']['location'], tweet['id'], tweet['text'], tweet['created_at'] ) )\n",
    "    # create a list of wanted items from the captured tweet\n",
    "    l = ['@'+str(tweet['user']['screen_name']), tweet['user']['created_at'], tweet['user']['followers_count'], tweet['user']['location'], tweet['id'], tweet['text'], tweet['created_at'], tweet['user']['entities']]\n",
    "    # create  delimited string from the items in the list\n",
    "    tweets_list.append(l)\n",
    "    \n",
    "# so how many tweets did we get?\n",
    "len(tweets_list)"
   ]
  },
  {
   "cell_type": "code",
   "execution_count": null,
   "metadata": {},
   "outputs": [],
   "source": [
    "len(tweets_list)"
   ]
  },
  {
   "cell_type": "code",
   "execution_count": null,
   "metadata": {},
   "outputs": [],
   "source": [
    "# can we transform the list to a pandas dataframe\n",
    "import pandas as pd\n",
    "\n",
    "# colum names in dataframe\n",
    "col = ('screen_name','user_created_date','followers','location','tweet_id','tweet_text','tweet_created_at','entities')\n",
    "\n",
    "# create dataframe\n",
    "df = pd.DataFrame(tweets_list, columns=col)\n",
    "\n",
    "df.head()"
   ]
  },
  {
   "cell_type": "code",
   "execution_count": null,
   "metadata": {},
   "outputs": [],
   "source": [
    "# save dataframe as a csv file with pipe seperator for later analysis\n",
    "fname = 'tweets-#oversterfte-20221021.txt'\n",
    "sep = '|'\n",
    "df.to_csv(fname,sep=sep)"
   ]
  },
  {
   "cell_type": "code",
   "execution_count": null,
   "metadata": {},
   "outputs": [],
   "source": [
    "import pandas as pd;\n",
    "\n",
    "df = pd.read_csv('tweets-#oversterfte-20221021.txt', sep='|',index_col = False)\n",
    "len(df)"
   ]
  },
  {
   "cell_type": "code",
   "execution_count": null,
   "metadata": {},
   "outputs": [],
   "source": [
    "df= df.drop(df.columns[0],axis=1)\n",
    "df.head()\n"
   ]
  },
  {
   "cell_type": "code",
   "execution_count": null,
   "metadata": {},
   "outputs": [],
   "source": [
    "df.columns"
   ]
  },
  {
   "cell_type": "markdown",
   "metadata": {},
   "source": [
    "Great, now we have collected some tweets with some meta data on them.\n",
    "Let's load the saved file back in and have a look at what we collected."
   ]
  },
  {
   "cell_type": "markdown",
   "metadata": {},
   "source": [
    "### NetworkX\n",
    "Now we are ready to load this data into a graph, You can be creative what to map to an edge or a node in your graph"
   ]
  },
  {
   "cell_type": "code",
   "execution_count": null,
   "metadata": {},
   "outputs": [],
   "source": [
    "# scrap board\n",
    "\n"
   ]
  },
  {
   "cell_type": "code",
   "execution_count": null,
   "metadata": {},
   "outputs": [],
   "source": [
    "# load networkX\n",
    "import networkx as nx\n",
    "import datetime\n",
    "\n",
    "# create an empty graph\n",
    "Gnew=nx.Graph()\n",
    "\n",
    "# Loop over all tweets \n",
    "for tweet in tweets:\n",
    "    \n",
    "    \n",
    "        # Add node\n",
    "        #Gnew.add_node(row['screen_name'], {'type':'user', 'followers':str(row['followers'])})\n",
    "        \n",
    "        # Add users\n",
    "        Gnew.add_node(str(tweet['user']['screen_name']), type=\"user\", followers=str(tweet['user']['followers_count']))\n",
    "        #Gnew.add_node(tweet['id_str'], {'label':tweet['text'],'type':'tweet', 'followers':str(tweet['user']['followers_count'])})\n",
    "        Gnew.add_edge(str(tweet['user']['screen_name']),tweet['id_str'],label=\"tweet\")    \n",
    "        \n",
    "              # If The tweet is a retweet then we create a new node for the tweet and an edge between tweet and retweet\n",
    "        try:\n",
    "            hashtags = tweet['retweeted_status']['id_str']\n",
    "            Gnew.add_node(tweet['id_str'], label=tweet['text'], type=\"retweet\", followers=str(tweet['user']['followers_count']))\n",
    "            Gnew.add_edge(tweet['id_str'],tweet['retweeted_status']['id_str'],label=\"retweet\")\n",
    "        \n",
    "        # Tweet is not an retweet\n",
    "        except:\n",
    "            Gnew.add_node(tweet['id_str'], label=tweet['text'],  type=\"tweet\", followers=str(tweet['user']['followers_count']))\n",
    "        \n",
    "        # Add Edge (user -> tweets)    \n",
    "        \n",
    "               # Loop over all hashtags\n",
    "        try:\n",
    "            hashtags = tweet['entities']['hashtags']\n",
    "            for hashtag in hashtags:\n",
    "                Gnew.add_node(hashtag['text'], label=hashtag['text'],  type=\"hashtag\")\n",
    "                Gnew.add_edge(tweet['id_str'],hashtag['text'],label=\"hashtag\")\n",
    "        except:\n",
    "            pass\n",
    "        \n",
    "                # Loop over all media\n",
    "        try:\n",
    "            media = tweet['entities']['media']\n",
    "            for medium in media:\n",
    "                Gnew.add_node(medium['display_url'], label=medium['display_url'],  type=\"media\")\n",
    "                Gnew.add_edge(tweet['id_str'],medium['display_url'],label=\"media\")\n",
    "        except:\n",
    "            pass\n",
    "\n",
    "      \n",
    "        # Loop over all links\n",
    "        try:\n",
    "            links = tweet['entities']['urls']\n",
    "            for link in links:\n",
    "                Gnew.add_node(link['display_url'], label=link['display_url'],  type=\"link\")\n",
    "                Gnew.add_edge(tweet['id_str'],link['display_url'],label=\"link\")\n",
    "        except:\n",
    "            pass\n",
    "        \n",
    "             \n",
    "         # Loop over all mentions\n",
    "        try:\n",
    "            mentions = tweet['entities']['user_mentions']\n",
    "            for mention in mentions:\n",
    "                Gnew.add_node(str(mention['screen_name']), type=\"user\")\n",
    "                Gnew.add_edge(str(tweet['user']['screen_name']),mention['screen_name'],label=\"mentions\")\n",
    "                #print(str(tweet['user']['screen_name']),mention['screen_name'],{'label':'mentions'})\n",
    "        except:\n",
    "            pass\n",
    "        "
   ]
  },
  {
   "cell_type": "markdown",
   "metadata": {},
   "source": [
    "## Inline magic\n",
    "\n",
    "Jupyter notebooks can do magic !\n",
    "\n",
    "Inline magic commands are used to do all kinds of nifty tricks like talk to the OS or loading extentions and a lot more.\n",
    "\n",
    "See [official magic docs](https://ipython.readthedocs.io/en/stable/interactive/magics.html)\n",
    "\n",
    "Or [this top 5 magic tricks](https://towardsdatascience.com/the-top-5-magic-commands-for-jupyter-notebooks-2bf0c5ae4bb8)"
   ]
  },
  {
   "cell_type": "code",
   "execution_count": null,
   "metadata": {},
   "outputs": [],
   "source": [
    "# we need the following inline magic to get matplotlib to plot inside jupyter notebook\n",
    "%matplotlib inline\n",
    "\n",
    "# draw graph (can take some time)\n",
    "pos=nx.spring_layout(Gnew) # positions for all nodes\n",
    "nx.draw_networkx_nodes(Gnew,pos,with_labels=False,node_size=20,node_color='0.5',alpha=0.3)\n",
    "nx.draw_networkx_edges(Gnew,pos,edge_color='0.5', alpha=0.7)"
   ]
  },
  {
   "cell_type": "code",
   "execution_count": null,
   "metadata": {},
   "outputs": [],
   "source": [
    "# hmmm not very informative yet, maybe we should switch to something else\n",
    "# lets expoert this graph so Gephi can read it."
   ]
  },
  {
   "cell_type": "markdown",
   "metadata": {},
   "source": [
    "## Gephi\n",
    "\n",
    "We can export the graph as gexf format and use Gephi to make a beatifull visualization"
   ]
  },
  {
   "cell_type": "code",
   "execution_count": null,
   "metadata": {},
   "outputs": [],
   "source": [
    "# save graph\n",
    "nx.write_gexf(Gnew,'tweets-#oversterfte-20221021.gexf')\n",
    "print('done')"
   ]
  },
  {
   "cell_type": "markdown",
   "metadata": {},
   "source": [
    "Now we can finetune and vizualize with [gephi](https://gephi.org/)"
   ]
  }
 ],
 "metadata": {
  "anaconda-cloud": {},
  "kernelspec": {
   "display_name": "Python 3 (ipykernel)",
   "language": "python",
   "name": "python3"
  },
  "language_info": {
   "codemirror_mode": {
    "name": "ipython",
    "version": 3
   },
   "file_extension": ".py",
   "mimetype": "text/x-python",
   "name": "python",
   "nbconvert_exporter": "python",
   "pygments_lexer": "ipython3",
   "version": "3.7.4"
  }
 },
 "nbformat": 4,
 "nbformat_minor": 1
}
